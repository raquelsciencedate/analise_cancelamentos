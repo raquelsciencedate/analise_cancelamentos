{
 "cells": [
  {
   "cell_type": "raw",
   "id": "dd2656c7-b76f-4f1c-9b76-700b98963a51",
   "metadata": {},
   "source": [
    "import pandas as pd\n"
   ]
  },
  {
   "cell_type": "code",
   "execution_count": 2,
   "id": "001a34a5-c6c8-4f0c-a2a0-609175ff12db",
   "metadata": {},
   "outputs": [],
   "source": [
    "df = pd.read_csv('cancelamentos.csv')\n"
   ]
  },
  {
   "cell_type": "code",
   "execution_count": 3,
   "id": "dc067754-da84-40ef-96c8-1cccf535d8d9",
   "metadata": {},
   "outputs": [
    {
     "ename": "SyntaxError",
     "evalue": "(unicode error) 'unicodeescape' codec can't decode bytes in position 2-3: truncated \\UXXXXXXXX escape (3883542582.py, line 1)",
     "output_type": "error",
     "traceback": [
      "\u001b[1;36m  Cell \u001b[1;32mIn[3], line 1\u001b[1;36m\u001b[0m\n\u001b[1;33m    df = pd.read_csv(\"C:\\Users\\Raquel\\Desktop\\vsestudos\\pandas\\cancelamentos.csv\")\u001b[0m\n\u001b[1;37m                                                                                 ^\u001b[0m\n\u001b[1;31mSyntaxError\u001b[0m\u001b[1;31m:\u001b[0m (unicode error) 'unicodeescape' codec can't decode bytes in position 2-3: truncated \\UXXXXXXXX escape\n"
     ]
    }
   ],
   "source": [
    "df = pd.read_csv(\"C:\\Users\\Raquel\\Desktop\\vsestudos\\pandas\\cancelamentos.csv\")\n"
   ]
  },
  {
   "cell_type": "code",
   "execution_count": 4,
   "id": "f156f035-eafe-4b94-b77e-7544f0d3ca7d",
   "metadata": {},
   "outputs": [
    {
     "name": "stdout",
     "output_type": "stream",
     "text": [
      "   CustomerID  idade    sexo  tempo_como_cliente  frequencia_uso  \\\n",
      "0         2.0   30.0  Female                39.0            14.0   \n",
      "1         3.0   65.0  Female                49.0             1.0   \n",
      "2         4.0   55.0  Female                14.0             4.0   \n",
      "3         5.0   58.0    Male                38.0            21.0   \n",
      "4         6.0   23.0    Male                32.0            20.0   \n",
      "\n",
      "   ligacoes_callcenter  dias_atraso assinatura duracao_contrato  total_gasto  \\\n",
      "0                  5.0         18.0   Standard           Annual        932.0   \n",
      "1                 10.0          8.0      Basic          Monthly        557.0   \n",
      "2                  6.0         18.0      Basic        Quarterly        185.0   \n",
      "3                  7.0          7.0   Standard          Monthly        396.0   \n",
      "4                  5.0          8.0      Basic          Monthly        617.0   \n",
      "\n",
      "   meses_ultima_interacao  cancelou  \n",
      "0                    17.0       1.0  \n",
      "1                     6.0       1.0  \n",
      "2                     3.0       1.0  \n",
      "3                    29.0       1.0  \n",
      "4                    20.0       1.0  \n"
     ]
    }
   ],
   "source": [
    "import pandas as pd\n",
    "\n",
    "# Carregar o dataset\n",
    "df = pd.read_csv('C:/Users/Raquel/Desktop/vsestudos/pandas/cancelamentos.csv')\n",
    "\n",
    "# Visualizar as primeiras 5 linhas\n",
    "print(df.head())\n"
   ]
  },
  {
   "cell_type": "markdown",
   "id": "17a84767-13f7-427f-88bb-5319c51ba8fa",
   "metadata": {},
   "source": [
    "´´´´ Storinteggggg\n",
    "\n",
    "\n"
   ]
  }
 ],
 "metadata": {
  "kernelspec": {
   "display_name": "Python 3 (ipykernel)",
   "language": "python",
   "name": "python3"
  },
  "language_info": {
   "codemirror_mode": {
    "name": "ipython",
    "version": 3
   },
   "file_extension": ".py",
   "mimetype": "text/x-python",
   "name": "python",
   "nbconvert_exporter": "python",
   "pygments_lexer": "ipython3",
   "version": "3.11.0"
  }
 },
 "nbformat": 4,
 "nbformat_minor": 5
}
